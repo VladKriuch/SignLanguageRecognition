{
 "cells": [
  {
   "cell_type": "code",
   "execution_count": 1,
   "id": "90c13859",
   "metadata": {},
   "outputs": [
    {
     "ename": "ModuleNotFoundError",
     "evalue": "No module named 'cv2'",
     "output_type": "error",
     "traceback": [
      "\u001b[1;31m---------------------------------------------------------------------------\u001b[0m",
      "\u001b[1;31mModuleNotFoundError\u001b[0m                       Traceback (most recent call last)",
      "Cell \u001b[1;32mIn[1], line 2\u001b[0m\n\u001b[0;32m      1\u001b[0m \u001b[38;5;28;01mimport\u001b[39;00m \u001b[38;5;21;01mmatplotlib\u001b[39;00m\u001b[38;5;21;01m.\u001b[39;00m\u001b[38;5;21;01mpyplot\u001b[39;00m \u001b[38;5;28;01mas\u001b[39;00m \u001b[38;5;21;01mplt\u001b[39;00m\n\u001b[1;32m----> 2\u001b[0m \u001b[38;5;28;01mimport\u001b[39;00m \u001b[38;5;21;01mcv2\u001b[39;00m\n\u001b[0;32m      3\u001b[0m \u001b[38;5;28;01mimport\u001b[39;00m \u001b[38;5;21;01mnumpy\u001b[39;00m \u001b[38;5;28;01mas\u001b[39;00m \u001b[38;5;21;01mnp\u001b[39;00m\n\u001b[0;32m      4\u001b[0m \u001b[38;5;28;01mfrom\u001b[39;00m \u001b[38;5;21;01mPIL\u001b[39;00m \u001b[38;5;28;01mimport\u001b[39;00m Image\n",
      "\u001b[1;31mModuleNotFoundError\u001b[0m: No module named 'cv2'"
     ]
    }
   ],
   "source": [
    "import matplotlib.pyplot as plt\n",
    "import cv2\n",
    "import numpy as np\n",
    "from PIL import Image\n",
    "import ipywidgets as widgets\n",
    "import threading\n",
    "import IPython\n",
    "\n",
    "\n",
    "def preprocess_img(image):\n",
    "    img = Image.fromarray(image)\n",
    "    img = np.array(img.resize(SIZE))\n",
    "\n",
    "    img = tf.image.rgb_to_grayscale(np.array([img])).numpy()\n",
    "    \n",
    "    original = tf.constant(img)\n",
    "    converted = tf.image.grayscale_to_rgb(original).numpy()\n",
    "    \n",
    "    return converted\n",
    "    \n",
    "def view():\n",
    "    cap = cv2.VideoCapture(0, cv2.CAP_DSHOW)\n",
    "    display_handle=display(None, display_id=True)\n",
    "    i = 0\n",
    "    while True:\n",
    "        _, frame = cap.read()\n",
    "\n",
    "        outcome_frame = preprocess_img(frame)\n",
    "        \n",
    "        y_pred = model(outcome_frame).numpy()\n",
    "        y_classes = y_pred[0].argmax(axis=-1)\n",
    "        letter = classes_2[y_classes]\n",
    "        \n",
    "        image = np.zeros((100, 950, 3), dtype=np.uint8)\n",
    "        image = cv2.cvtColor(outcome_frame[0], cv2.COLOR_BGR2RGB)\n",
    "        pil_image = Image.fromarray(image)\n",
    "\n",
    "        # Draw non-ascii text onto image\n",
    "        font = ImageFont.truetype(\"C:\\Windows\\Fonts\\\\arial.ttf\", 35)\n",
    "        draw = ImageDraw.Draw(pil_image)\n",
    "        draw.text((30, 30), letter, font=font)\n",
    "\n",
    "        # Convert back to Numpy array and switch back from RGB to BGR\n",
    "        image = np.asarray(pil_image)\n",
    "        image = cv2.cvtColor(image, cv2.COLOR_RGB2BGR)\n",
    "\n",
    "\n",
    "        _, frame = cv2.imencode('.jpeg', image)\n",
    "        display_handle.update(IPython.display.Image(frame))\n",
    "\n",
    "            \n",
    "# Run\n",
    "# ================\n",
    "view()"
   ]
  },
  {
   "cell_type": "code",
   "execution_count": 3,
   "id": "4f55bec0",
   "metadata": {},
   "outputs": [
    {
     "name": "stderr",
     "output_type": "stream",
     "text": [
      "ERROR: Could not find a version that satisfies the requirement cv2 (from versions: none)\n",
      "ERROR: No matching distribution found for cv2\n",
      "\n",
      "[notice] A new release of pip is available: 23.0.1 -> 23.1.2\n",
      "[notice] To update, run: python.exe -m pip install --upgrade pip\n"
     ]
    }
   ],
   "source": [
    "!pip install cv2"
   ]
  },
  {
   "cell_type": "code",
   "execution_count": null,
   "id": "82e58e89",
   "metadata": {},
   "outputs": [],
   "source": []
  }
 ],
 "metadata": {
  "kernelspec": {
   "display_name": "Python 3 (ipykernel)",
   "language": "python",
   "name": "python3"
  },
  "language_info": {
   "codemirror_mode": {
    "name": "ipython",
    "version": 3
   },
   "file_extension": ".py",
   "mimetype": "text/x-python",
   "name": "python",
   "nbconvert_exporter": "python",
   "pygments_lexer": "ipython3",
   "version": "3.11.1"
  }
 },
 "nbformat": 4,
 "nbformat_minor": 5
}
